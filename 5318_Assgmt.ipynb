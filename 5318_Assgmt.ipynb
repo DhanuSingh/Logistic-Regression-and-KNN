{
 "cells": [
  {
   "cell_type": "markdown",
   "metadata": {},
   "source": [
    "###### Loading the Data"
   ]
  },
  {
   "cell_type": "code",
   "execution_count": 1,
   "metadata": {},
   "outputs": [],
   "source": [
    "import numpy as np\n",
    "import time"
   ]
  },
  {
   "cell_type": "code",
   "execution_count": 2,
   "metadata": {},
   "outputs": [],
   "source": [
    "def loaddata(a, b):\n",
    "    import h5py\n",
    "    with h5py.File(a+'.h5','r') as H:\n",
    "        data = np.copy(H['data'])\n",
    "    with h5py.File(b+'.h5','r') as H:\n",
    "        label = np.copy(H['label'])\n",
    "\n",
    "    X = np.reshape(data,(data.shape[0],-1))\n",
    "    X=X.T\n",
    "    Y=np.reshape(label, (label.shape[0],1))\n",
    "    X=X/255\n",
    "    return X, Y"
   ]
  },
  {
   "cell_type": "markdown",
   "metadata": {},
   "source": [
    "###### Validation with 20% data"
   ]
  },
  {
   "cell_type": "code",
   "execution_count": 3,
   "metadata": {},
   "outputs": [],
   "source": [
    "def Validation_dataset(X, Y, percent):\n",
    "    k=int((percent/100)*X.shape[1])\n",
    "    rand= np.random.permutation(X.shape[1])\n",
    "    rand= rand[0:k]\n",
    "    All_index=np.arange(X.shape[1])\n",
    "    a=set(rand)\n",
    "    b=set(All_index)\n",
    "    c=b-a\n",
    "    a=sorted(a)\n",
    "    c=sorted(c)\n",
    "\n",
    "    Train_Data_mat=np.zeros((X.shape[0],len(c)))\n",
    "    Train_labels= np.zeros((len(c)))\n",
    "    Val_Data_mat=np.zeros((X.shape[0], len(a)))\n",
    "    Val_labels= np.zeros((len(a)))\n",
    "    for i in range(len(c)):\n",
    "        Train_Data_mat[:,i]=X[:,c[i]]\n",
    "        Train_labels[i]= Y[c[i]]\n",
    "    for i in range(len(a)):\n",
    "        Val_Data_mat[:,i]=X[:,a[i]]\n",
    "        Val_labels[i]= Y[a[i]] \n",
    "        \n",
    "    return Train_Data_mat, Train_labels, Val_Data_mat, Val_labels"
   ]
  },
  {
   "cell_type": "markdown",
   "metadata": {},
   "source": [
    "###### Data Preprocessing:  Normalisation & SVD for rank reduction"
   ]
  },
  {
   "cell_type": "code",
   "execution_count": 4,
   "metadata": {},
   "outputs": [],
   "source": [
    "def SVD(X, var_desired):\n",
    "    U, s, Vt= np.linalg.svd(X, full_matrices=False)\n",
    "    sum_ev_sq=np.sum(s**2)\n",
    "    s_square=np.square(s)\n",
    "    cumsum_s=np.cumsum(s_square)\n",
    "    var_arr=cumsum_s/sum_ev_sq\n",
    "    k=np.argmax(var_arr>var_desired)\n",
    "    k=k+1\n",
    "    S=np.diag(s)\n",
    "    X_hat_reconst=U[:,0:k].dot(S[0:k,0:k]).dot(Vt[0:k,:])\n",
    "    #SSE = np.sum((data - data_hat_reconstructed)**2)\n",
    "    n=k\n",
    "    comp_ratio = (X.shape[1]*n + n + X.shape[0]*n)/(X.shape[1] * X.shape[0])\n",
    "    return X_hat_reconst, k, comp_ratio      "
   ]
  },
  {
   "cell_type": "markdown",
   "metadata": {},
   "source": [
    "###### Logistic Regression Classifier using Gradient Descent "
   ]
  },
  {
   "cell_type": "code",
   "execution_count": 5,
   "metadata": {},
   "outputs": [],
   "source": [
    "#binary Logisitic Regression classifier\n",
    "def binry_classifier(X, Y, iterations, Eta, lamda):\n",
    "    import time\n",
    "    row_all_one=np.ones((1,len(X.T)))     #adding a row of all one\n",
    "    X=np.concatenate((row_all_one, X), 0)\n",
    "    Wk=np.zeros(len(X))\n",
    "    Wk1=Wk\n",
    "    print (row_all_one.shape, X.shape, Wk.shape)\n",
    "    for j in range(iterations):\n",
    "        labels_pred=[]\n",
    "        Wk=Wk1\n",
    "        for i in range(len(X.T)):\n",
    "            exp_part=np.dot((X[:,i]), Wk)\n",
    "            exp_part=-1*exp_part\n",
    "            exp_part=np.exp(exp_part)\n",
    "            if(exp_part<=1):\n",
    "                labels_pred.append(1)\n",
    "            else:\n",
    "                labels_pred.append(0)\n",
    "        labels_pred=np.asarray(labels_pred)\n",
    "        Comp_Grad_1=np.sum(X*labels_pred, axis=1)\n",
    "        Comp_Grad_2=np.sum(X*Y, axis=1)\n",
    "        Grad=Comp_Grad_1-Comp_Grad_2\n",
    "        Grad=Grad/len(X.T) \n",
    "        Grad=Grad+ lamda*Wk\n",
    "        #print(Grad.shape)\n",
    "        Wk1= Wk1 - Eta*Grad\n",
    "        if(abs((np.linalg.norm(Wk)-np.linalg.norm(Wk1)))<1e-12):   #convergence\n",
    "            diff=abs(np.linalg.norm(Wk)-np.linalg.norm(Wk1))\n",
    "            print(\"The value of norm is\", diff)\n",
    "            break\n",
    "    diff=np.linalg.norm(Wk)-np.linalg.norm(Wk1)\n",
    "    return Wk1, labels_pred      "
   ]
  },
  {
   "cell_type": "code",
   "execution_count": 6,
   "metadata": {},
   "outputs": [],
   "source": [
    "def Confusn_mat(labels_pred, Y):\n",
    "    lst=[]\n",
    "    true_pos=0\n",
    "    false_posit=0\n",
    "    false_negat=0\n",
    "    true_neg=0\n",
    "    for i in range(len(labels_pred)):\n",
    "        if (labels_pred[i]== 1 and Y[i]==1):\n",
    "            true_pos=true_pos +1\n",
    "        elif (labels_pred[i]==1 and Y[i]==0):\n",
    "            false_posit=false_posit+1\n",
    "        elif (labels_pred[i]==0 and Y[i]==1):\n",
    "            false_negat=false_negat+1\n",
    "        else:\n",
    "            true_neg=true_neg+1\n",
    "    lst=[true_pos, false_posit, false_negat, true_neg]\n",
    "    lst=np.asarray(lst)\n",
    "    return lst"
   ]
  },
  {
   "cell_type": "code",
   "execution_count": 17,
   "metadata": {},
   "outputs": [],
   "source": [
    "# Performance Metrics\n",
    "def Parameters(true_pos, false_posit, false_negat, true_neg):\n",
    "    print(true_pos, false_posit, false_negat, true_neg)\n",
    "    lst=[]\n",
    "    Accuracy=((true_pos+true_neg)/(true_pos+true_neg+false_posit+false_negat))*100\n",
    "    Accuracy = np.round(Accuracy,2)\n",
    "    Precision= true_pos/(true_pos+false_posit) \n",
    "    Precision = np.round(Precision,2)\n",
    "    Recall= true_pos/(true_pos+false_negat)\n",
    "    Recall = np.round(Recall,2)\n",
    "    F_measure=(2*true_pos)/(2*true_pos + false_negat+ false_posit)\n",
    "    F_measure = np.round(F_measure,2)\n",
    "    TPR=true_pos/(true_pos + false_negat)\n",
    "    TPR = np.round(TPR,2)\n",
    "    FPR= false_posit/(false_posit + true_neg)\n",
    "    FPR = np.round(FPR,2)\n",
    "    lst=[Accuracy, Precision, Recall, F_measure, TPR, FPR]\n",
    "    #print(Accuracy, Precision, Recall, F_measure, TPR, FPR)\n",
    "    lst=np.asarray(lst)\n",
    "    return lst"
   ]
  },
  {
   "cell_type": "code",
   "execution_count": 8,
   "metadata": {},
   "outputs": [],
   "source": [
    "# Learning One Vs All implementation\n",
    "def one_vs_All_train(X, Y):\n",
    "    unique, counts=np.unique(Y, return_counts=True)\n",
    "    opt_W=np.zeros((len(unique), X.shape[0]+1))\n",
    "    labels_pred=np.zeros((len(unique), len(Y)))\n",
    "    for j in range(len(unique)):\n",
    "        Y_bin=np.zeros(len(Y))\n",
    "        lst=[]\n",
    "        for i in range(len(Y)):\n",
    "            if (Y[i]==j):\n",
    "                Y_bin[i]=1\n",
    "            else:\n",
    "                Y_bin[i]=0\n",
    "        opt_W[j], labels_pred[j] =binry_classifier(X, Y_bin, 200, 1e-5, np.exp(-75))\n",
    "        lst=Confusn_mat(labels_pred[j], Y_bin)\n",
    "        print(\"The confmat for class label {} is {}\" .format(j,lst))\n",
    "    return opt_W, labels_pred"
   ]
  },
  {
   "cell_type": "markdown",
   "metadata": {},
   "source": [
    "###### Training the Classifier One Vs All"
   ]
  },
  {
   "cell_type": "code",
   "execution_count": 9,
   "metadata": {},
   "outputs": [
    {
     "name": "stdout",
     "output_type": "stream",
     "text": [
      "(1, 24000) (785, 24000) (785,)\n",
      "The confmat for class label 0 is [ 1652   308   741 21299]\n",
      "(1, 24000) (785, 24000) (785,)\n",
      "The confmat for class label 1 is [ 2270   149   111 21470]\n",
      "(1, 24000) (785, 24000) (785,)\n",
      "The confmat for class label 2 is [ 1808  1183   590 20419]\n",
      "(1, 24000) (785, 24000) (785,)\n",
      "The confmat for class label 3 is [ 1450    97   945 21508]\n",
      "(1, 24000) (785, 24000) (785,)\n",
      "The confmat for class label 4 is [    8     1  2401 21590]\n",
      "(1, 24000) (785, 24000) (785,)\n",
      "The confmat for class label 5 is [ 2228   325   203 21244]\n",
      "(1, 24000) (785, 24000) (785,)\n",
      "The confmat for class label 6 is [    0     0  2362 21638]\n",
      "(1, 24000) (785, 24000) (785,)\n",
      "The confmat for class label 7 is [ 1693   103   664 21540]\n",
      "(1, 24000) (785, 24000) (785,)\n",
      "The confmat for class label 8 is [ 2180   211   214 21395]\n",
      "(1, 24000) (785, 24000) (785,)\n",
      "The confmat for class label 9 is [ 2229   242   251 21278]\n",
      "(1, 24000) (785, 24000) (785,)\n",
      "The confmat for class label 0 is [ 1822   433   587 21158]\n",
      "(1, 24000) (785, 24000) (785,)\n",
      "The confmat for class label 1 is [ 2252   149   117 21482]\n",
      "(1, 24000) (785, 24000) (785,)\n",
      "The confmat for class label 2 is [ 1997  1659   422 19922]\n",
      "(1, 24000) (785, 24000) (785,)\n",
      "The confmat for class label 3 is [  777    32  1607 21584]\n",
      "(1, 24000) (785, 24000) (785,)\n",
      "The confmat for class label 4 is [    6     3  2416 21575]\n",
      "(1, 24000) (785, 24000) (785,)\n",
      "The confmat for class label 5 is [ 2143   184   303 21370]\n",
      "(1, 24000) (785, 24000) (785,)\n",
      "The confmat for class label 6 is [ 2254  7570   121 14055]\n",
      "(1, 24000) (785, 24000) (785,)\n",
      "The confmat for class label 7 is [ 1615   102   648 21635]\n",
      "(1, 24000) (785, 24000) (785,)\n",
      "The confmat for class label 8 is [ 2202   243   207 21348]\n",
      "(1, 24000) (785, 24000) (785,)\n",
      "The confmat for class label 9 is [ 2301   295   203 21201]\n",
      "(1, 24000) (785, 24000) (785,)\n",
      "The confmat for class label 0 is [ 2312  1936   107 19645]\n",
      "(1, 24000) (785, 24000) (785,)\n",
      "The confmat for class label 1 is [ 2222   146   114 21518]\n",
      "(1, 24000) (785, 24000) (785,)\n",
      "The confmat for class label 2 is [ 1072   214  1338 21376]\n",
      "(1, 24000) (785, 24000) (785,)\n",
      "The confmat for class label 3 is [ 1823   270   585 21322]\n",
      "(1, 24000) (785, 24000) (785,)\n",
      "The confmat for class label 4 is [ 1969  1228   436 20367]\n",
      "(1, 24000) (785, 24000) (785,)\n",
      "The confmat for class label 5 is [ 2233   291   218 21258]\n",
      "(1, 24000) (785, 24000) (785,)\n",
      "The confmat for class label 6 is [  569   161  1840 21430]\n",
      "(1, 24000) (785, 24000) (785,)\n",
      "The confmat for class label 7 is [ 1548    84   774 21594]\n",
      "(1, 24000) (785, 24000) (785,)\n",
      "The confmat for class label 8 is [ 2181   244   217 21358]\n",
      "(1, 24000) (785, 24000) (785,)\n",
      "The confmat for class label 9 is [ 2210   200   232 21358]\n",
      "Running time: 35 minutes\n"
     ]
    }
   ],
   "source": [
    "start_time=time.time()\n",
    "X, Y=loaddata(\"images_training\", \"labels_training\")\n",
    "variance=0.96\n",
    "sample_times=3\n",
    "unique, counts=np.unique(Y, return_counts=True)\n",
    "opt_W_Avg=np.zeros((len(unique), X.shape[0]+1))\n",
    "for i in range(sample_times):\n",
    "    X_post_Val_data, Y_post_Val_labels, Val_Data, Val_labels=Validation_dataset(X, Y, 20)\n",
    "    X_post_Val_data, n_components, comp_ratio = SVD(X_post_Val_data,variance)\n",
    "    \n",
    "   # Val_Data, n_components_Val, comp_ratio_Val= SVD(Val_Data,variance)\n",
    "    opt_W, labels_pred = one_vs_All_train(X_post_Val_data, Y_post_Val_labels)\n",
    "    opt_W_Avg= opt_W_Avg+ opt_W\n",
    "opt_W_Avg=opt_W_Avg/sample_times\n",
    "print(\"Running time: \"+ str(int((time.time()-start_time)/60))+\" minutes\")"
   ]
  },
  {
   "cell_type": "markdown",
   "metadata": {},
   "source": [
    "###### Testing Procedure"
   ]
  },
  {
   "cell_type": "code",
   "execution_count": 18,
   "metadata": {},
   "outputs": [
    {
     "name": "stdout",
     "output_type": "stream",
     "text": [
      "THe accuracy is 77.53750000000001 %\n",
      "1827.0 499.0 592.0 21082.0\n",
      "2195.0 127.0 141.0 21537.0\n",
      "1610.0 669.0 800.0 20921.0\n",
      "2227.0 1347.0 181.0 20245.0\n",
      "1970.0 1459.0 435.0 20136.0\n",
      "2113.0 103.0 338.0 21446.0\n",
      "20.0 0.0 2389.0 21591.0\n",
      "2168.0 431.0 154.0 21247.0\n",
      "2279.0 594.0 119.0 21008.0\n",
      "2200.0 162.0 242.0 21396.0\n"
     ]
    }
   ],
   "source": [
    "#Testing over Training Data\n",
    "pred_labels = testing_All(X_post_Val_data, opt_W_Avg)\n",
    "acc=0\n",
    "for i in range(len(Y_post_Val_labels)):\n",
    "    if(Y_post_Val_labels[i]==pred_labels[i]):\n",
    "        acc=acc+1\n",
    "print(\"The accuracy is {} %\".format((acc/(len(Y_post_Val_labels)))*100))\n",
    "Conf_mat4All_train, Param_mat4All_train= FindConfMat(pred_labels, Y_post_Val_labels)\n",
    "#print (Conf_mat4All_train, np.round(Param_mat4All_train,2))"
   ]
  },
  {
   "cell_type": "code",
   "execution_count": 19,
   "metadata": {},
   "outputs": [
    {
     "name": "stdout",
     "output_type": "stream",
     "text": [
      "THe accuracy is 78.53333333333333 %\n",
      "449.0 120.0 143.0 5288.0\n",
      "580.0 28.0 40.0 5352.0\n",
      "415.0 159.0 195.0 5231.0\n",
      "551.0 328.0 43.0 5078.0\n",
      "509.0 347.0 115.0 5029.0\n",
      "500.0 29.0 77.0 5394.0\n",
      "7.0 0.0 551.0 5442.0\n",
      "542.0 101.0 31.0 5326.0\n",
      "579.0 135.0 25.0 5261.0\n",
      "580.0 41.0 68.0 5311.0\n"
     ]
    }
   ],
   "source": [
    "#Testing over Validation Data\n",
    "pred_labels = testing_All(Val_Data, opt_W_Avg)\n",
    "acc=0\n",
    "for i in range(len(Val_labels)):\n",
    "    if(Val_labels[i]==pred_labels[i]):\n",
    "        acc=acc+1\n",
    "print(\"The accuracy is {} %\".format((acc/(len(Val_labels)))*100))\n",
    "Conf_mat4All_valid, Param_mat4All_valid= FindConfMat(pred_labels, Val_labels)\n",
    "#print (np.round(Conf_mat4All_valid,2), np.round(Param_mat4All_valid,2))"
   ]
  },
  {
   "cell_type": "code",
   "execution_count": 20,
   "metadata": {},
   "outputs": [
    {
     "name": "stdout",
     "output_type": "stream",
     "text": [
      "THe accuracy for test is 76.95 %\n",
      "133.0 41.0 45.0 1781.0\n",
      "181.0 10.0 10.0 1799.0\n",
      "134.0 49.0 76.0 1741.0\n",
      "179.0 115.0 12.0 1694.0\n",
      "166.0 135.0 46.0 1653.0\n",
      "174.0 6.0 40.0 1780.0\n",
      "3.0 1.0 197.0 1799.0\n",
      "188.0 30.0 10.0 1772.0\n",
      "207.0 49.0 12.0 1732.0\n",
      "174.0 25.0 13.0 1788.0\n"
     ]
    }
   ],
   "source": [
    "# import testing data\n",
    "X_test, Y_test=loaddata(\"images_testing\", \"labels_testing_2000\")\n",
    "X_test, n_components_Test, comp_ratio_Test =SVD(X_test, variance)\n",
    "\n",
    "#Testing on 2000 Test Data\n",
    "pred_labels = testing_All(X_test, opt_W_Avg)\n",
    "pred_labels= pred_labels\n",
    "acc=0\n",
    "for i in range(len(Y_test)):\n",
    "    if(Y_test[i]==pred_labels[i]):\n",
    "        acc=acc+1\n",
    "print(\"THe accuracy for test is {} %\".format((acc/(len(Y_test)))*100))\n",
    "Conf_mat4All_test, Param_mat4All_test= FindConfMat(pred_labels, Y_test)\n",
    "#print (np.round(Conf_mat4All_test,2), np.round(Param_mat4All_test,2))"
   ]
  },
  {
   "cell_type": "code",
   "execution_count": 10,
   "metadata": {},
   "outputs": [],
   "source": [
    "#Testing One Vs All\n",
    "def one_vs_All_test(X_test, Y_test, opt_W):\n",
    "    unique, counts=np.unique(Y_test, return_counts=True)\n",
    "    labelas_pred=np.zeros((len(unique), len(Y_test)))\n",
    "    Conf_mat4All= np.zeros((len(unique), 4))\n",
    "    Param_mat4All= np.zeros((len(unique), 6))\n",
    "    for j in range(len(unique)):\n",
    "        Y_bin=np.zeros(len(Y_test))\n",
    "        for i in range(len(Y_test)):\n",
    "            if (Y_test[i]==j):\n",
    "                Y_bin[i]=1\n",
    "            else:\n",
    "                Y_bin[i]=0\n",
    "        labels_pred[j] = testing(X_test, Y_bin, opt_W[j])\n",
    "        Conf_mat4All[j]= Confusn_mat(labels_pred[j] , Y_bin)\n",
    "        Param_mat4All[j]= Parameters(Conf_mat4All[j][0], Conf_mat4All[j][1], Conf_mat4All[j][2], Conf_mat4All[j][3])\n",
    "        print (Param_mat4All[j] )\n",
    "        print()\n",
    "    return labels_pred, Conf_mat4All, Param_mat4All"
   ]
  },
  {
   "cell_type": "code",
   "execution_count": 11,
   "metadata": {},
   "outputs": [],
   "source": [
    "def testing(X, Y, W):\n",
    "    row_all_one=np.ones((1,len(X.T)))\n",
    "    X=np.concatenate((row_all_one, X), 0)\n",
    "    pred_label=[]\n",
    "    for i in range(len(Y)):\n",
    "        exp_part=np.dot((X[:,i]), W)\n",
    "        #print(W)\n",
    "        exp_part=-1*exp_part\n",
    "        exp_part=np.exp(exp_part)\n",
    "        if(exp_part<=1):\n",
    "            pred_label.append(1)\n",
    "        else:\n",
    "            pred_label.append(0)\n",
    "       \n",
    "    return pred_label"
   ]
  },
  {
   "cell_type": "code",
   "execution_count": 12,
   "metadata": {},
   "outputs": [],
   "source": [
    "def testing_All(X, W):\n",
    "    row_all_one=np.ones((1,len(X.T)))\n",
    "    X=np.concatenate((row_all_one, X), 0)\n",
    "    probabilities=np.dot(W, X)\n",
    "    pred_labels=np.argmax(probabilities, axis=0)\n",
    "    return pred_labels"
   ]
  },
  {
   "cell_type": "code",
   "execution_count": 13,
   "metadata": {},
   "outputs": [],
   "source": [
    "def FindConfMat(pred_labels, Y_test):\n",
    "    unique, counts=np.unique(Y_test, return_counts=True)\n",
    "    Conf_mat4All= np.zeros((len(unique), 4))\n",
    "    Param_mat4All= np.zeros((len(unique), 6))\n",
    "    for j in range(len(unique)):\n",
    "        pred_labels_bin=[]\n",
    "        Y_test_bin=[]\n",
    "        for i in range(len(Y_test)):\n",
    "            if (pred_labels[i]==j):\n",
    "                pred_labels_bin.append(1)\n",
    "            else:\n",
    "                pred_labels_bin.append(0)\n",
    "            if(Y_test[i]==j):\n",
    "                Y_test_bin.append(1)\n",
    "            else:\n",
    "                Y_test_bin.append(0)\n",
    "        Conf_mat4All[j]=Confusn_mat(pred_labels_bin, Y_test_bin)\n",
    "        Param_mat4All[j]=Parameters(Conf_mat4All[j][0], Conf_mat4All[j][1], Conf_mat4All[j][2], Conf_mat4All[j][3])\n",
    "    return Conf_mat4All, Param_mat4All"
   ]
  },
  {
   "cell_type": "code",
   "execution_count": null,
   "metadata": {},
   "outputs": [],
   "source": []
  }
 ],
 "metadata": {
  "kernelspec": {
   "display_name": "Python 3",
   "language": "python",
   "name": "python3"
  },
  "language_info": {
   "codemirror_mode": {
    "name": "ipython",
    "version": 3
   },
   "file_extension": ".py",
   "mimetype": "text/x-python",
   "name": "python",
   "nbconvert_exporter": "python",
   "pygments_lexer": "ipython3",
   "version": "3.7.0"
  }
 },
 "nbformat": 4,
 "nbformat_minor": 2
}
